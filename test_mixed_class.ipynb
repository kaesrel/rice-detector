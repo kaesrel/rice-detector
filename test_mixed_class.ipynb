{
 "cells": [
  {
   "cell_type": "code",
   "execution_count": 1,
   "metadata": {},
   "outputs": [],
   "source": [
    "import cv2\n",
    "import argparse\n",
    "import os\n",
    "import glob\n",
    "import yolo_detector as yolo\n",
    "from sklearn import metrics"
   ]
  },
  {
   "cell_type": "code",
   "execution_count": 2,
   "metadata": {},
   "outputs": [],
   "source": [
    "path = \"/home/prom/work/other/opencv_study/rice_data_preparer\"\n",
    "# path = \"your-path-here\"\n",
    "# weights = f\"{path}/backup/yolov4-rice_best.weights\"\n",
    "weights = f\"{path}/backup/yolov4-tiny-rice_best.weights\"\n",
    "\n",
    "# config = f\"{path}/cfg/yolov4-rice.cfg\"\n",
    "config = f\"{path}/cfg/yolov4-tiny-rice.cfg\"\n",
    "classes = f\"{path}/obj.names\"\n",
    "images_path = f\"{path}/mixed_dense_sparse_label\"\n",
    "confidence = 0.4\n",
    "nms = 0.4"
   ]
  },
  {
   "cell_type": "code",
   "execution_count": 3,
   "metadata": {},
   "outputs": [],
   "source": [
    "detector = yolo.YoloDetector(weights, config, classes)"
   ]
  },
  {
   "cell_type": "code",
   "execution_count": 4,
   "metadata": {},
   "outputs": [],
   "source": [
    "# f\"{path}/test.txt\"\n",
    "test_images = open(file=f\"{path}/test.txt\").readlines()\n",
    "test_files = [f\"{path}/{line[:-1]}\" for line in test_images]\n",
    "# !cat \"{path}/test.txt\""
   ]
  },
  {
   "cell_type": "code",
   "execution_count": 5,
   "metadata": {},
   "outputs": [],
   "source": [
    "all_files = []\n",
    "exts = ['*.jpg', '*.png']\n",
    "all_files = [f for ext in exts for f in glob.glob(os.path.join(images_path, ext))]\n",
    "# files = all_files\n",
    "files = test_files\n",
    "\n",
    "\n",
    "predict = []\n",
    "actual = []"
   ]
  },
  {
   "cell_type": "code",
   "execution_count": 6,
   "metadata": {},
   "outputs": [],
   "source": [
    "\n",
    "\n",
    "for file in files:\n",
    "    image = cv2.imread(file)\n",
    "\n",
    "    # labels = detector.detect_and_label(image, args.confidence, args.nms)\n",
    "    classes, scores, boxes = detector.detect(image, confidence, nms)\n",
    "    labels = detector.label(image)\n",
    "    predict.append(classes[0])\n",
    "\n",
    "    # print(file)\n",
    "    path = os.path.splitext(file)\n",
    "    if os.path.isfile(path[0]+'.txt'):\n",
    "        txtfile = open(path[0]+'.txt','r')\n",
    "        lines = txtfile.readlines()\n",
    "        for line in lines:\n",
    "            classid = int(line.split(' ')[0])\n",
    "            if len(classes) <=0 or classid != classes[0]:\n",
    "                is_match = False\n",
    "            actual.append(classid)\n",
    "            break\n",
    "\n"
   ]
  },
  {
   "cell_type": "code",
   "execution_count": 7,
   "metadata": {},
   "outputs": [
    {
     "name": "stdout",
     "output_type": "stream",
     "text": [
      "[[31  0  0  0]\n",
      " [ 3 27  1  0]\n",
      " [ 1  2 28  0]\n",
      " [ 0  1  0 30]]\n"
     ]
    }
   ],
   "source": [
    "# actual\n",
    "print(metrics.confusion_matrix(actual,predict))"
   ]
  },
  {
   "cell_type": "code",
   "execution_count": 8,
   "metadata": {},
   "outputs": [
    {
     "name": "stdout",
     "output_type": "stream",
     "text": [
      "              precision    recall  f1-score   support\n",
      "\n",
      "    rice_100       0.89      1.00      0.94        31\n",
      "      rice_5       0.90      0.87      0.89        31\n",
      "     rice_10       0.97      0.90      0.93        31\n",
      "     rice_15       1.00      0.97      0.98        31\n",
      "\n",
      "    accuracy                           0.94       124\n",
      "   macro avg       0.94      0.94      0.94       124\n",
      "weighted avg       0.94      0.94      0.94       124\n",
      "\n"
     ]
    }
   ],
   "source": [
    "print(metrics.classification_report(actual, predict, target_names=detector.class_name))\n",
    "# print(metrics.classification_report(actual, predict))"
   ]
  }
 ],
 "metadata": {
  "kernelspec": {
   "display_name": "Python 3",
   "language": "python",
   "name": "python3"
  },
  "language_info": {
   "codemirror_mode": {
    "name": "ipython",
    "version": 3
   },
   "file_extension": ".py",
   "mimetype": "text/x-python",
   "name": "python",
   "nbconvert_exporter": "python",
   "pygments_lexer": "ipython3",
   "version": "3.8.10"
  },
  "orig_nbformat": 4,
  "vscode": {
   "interpreter": {
    "hash": "916dbcbb3f70747c44a77c7bcd40155683ae19c65e1c03b4aa3499c5328201f1"
   }
  }
 },
 "nbformat": 4,
 "nbformat_minor": 2
}
